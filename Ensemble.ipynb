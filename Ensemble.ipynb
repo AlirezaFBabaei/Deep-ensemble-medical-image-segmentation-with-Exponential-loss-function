{
 "cells": [
  {
   "cell_type": "code",
   "execution_count": null,
   "metadata": {},
   "outputs": [],
   "source": [
    "import tensorflow as tf\n",
    "import numpy as np\n",
    "from tensorflow.keras.utils import CustomObjectScope\n",
    "import segmentation_models as sm\n",
    "from keras.metrics import MeanIoU\n",
    "import glob\n",
    "import cv2\n",
    "import os\n",
    "from matplotlib import pyplot as plt"
   ]
  },
  {
   "cell_type": "code",
   "execution_count": null,
   "metadata": {},
   "outputs": [],
   "source": [
    "BACKBONE1 = 'resnet101'\n",
    "preprocess_input1 = sm.get_preprocessing(BACKBONE1)\n",
    "\n",
    "SIZE_X = 256\n",
    "SIZE_Y = 256\n",
    "n_classes = 2"
   ]
  },
  {
   "cell_type": "code",
   "execution_count": null,
   "metadata": {},
   "outputs": [],
   "source": [
    "# Capture training image info as a list\n",
    "test_images = []\n",
    "\n",
    "for directory_path in glob.glob(\"test_images\"):\n",
    "    for img_path in glob.glob(os.path.join(directory_path, \"*.jpg\")):\n",
    "        img = cv2.imread(img_path, 1)\n",
    "        img = cv2.resize(img, (SIZE_Y, SIZE_X), interpolation = cv2.INTER_NEAREST)\n",
    "        test_images.append(img)\n",
    "    \n",
    "#Convert list to array for machine learning processing        \n",
    "test_images = np.array(test_images)"
   ]
  },
  {
   "cell_type": "code",
   "execution_count": null,
   "metadata": {},
   "outputs": [],
   "source": [
    "# Capture mask/label info as a list\n",
    "test_masks = [] \n",
    "\n",
    "for directory_path in glob.glob(\"test_masks\"):\n",
    "    for img_path in glob.glob(os.path.join(directory_path, \"*.jpg\")):\n",
    "        mask = cv2.imread(img_path, 1)\n",
    "        mask = cv2.resize(mask, (SIZE_Y, SIZE_X), interpolation = cv2.INTER_NEAREST)\n",
    "        mask[mask <= 15] = 0\n",
    "        mask[mask >= 200] = 255\n",
    "        test_masks.append(mask)\n",
    "        \n",
    "# Convert list to array for machine learning processing          \n",
    "test_masks = np.array(test_masks)"
   ]
  },
  {
   "cell_type": "code",
   "execution_count": null,
   "metadata": {},
   "outputs": [],
   "source": [
    "def Exp_loss(y_true, y_pred):\n",
    "  y_pred = tf.nn.softmax(y_pred)\n",
    "\n",
    "  true = 0.8 * tf.math.exp(-1 * tf.math.multiply(y_true, y_pred))\n",
    "  wrong = tf.math.exp(-1 * tf.math.multiply((1 - y_true), (1 - y_pred)))\n",
    "  loss = tf.reduce_mean(true + wrong)\n",
    "  \n",
    "  return loss"
   ]
  },
  {
   "cell_type": "code",
   "execution_count": null,
   "metadata": {},
   "outputs": [],
   "source": [
    "def dice_coef(y_true, y_pred, smooth=1.0):\n",
    "    # Flatten the input tensors\n",
    "    y_true_f = tf.keras.backend.flatten(y_true)\n",
    "    y_pred_f = tf.keras.backend.flatten(y_pred)\n",
    "    \n",
    "    # Calculate intersection and union of the flattened tensors\n",
    "    intersection = tf.keras.backend.sum(y_true_f * y_pred_f)\n",
    "    union = tf.keras.backend.sum(y_true_f) + tf.keras.backend.sum(y_pred_f)\n",
    "    \n",
    "    # Calculate Dice coefficient\n",
    "    dice_coef = (2.0 * intersection + smooth) / (union + smooth)\n",
    "    \n",
    "    return dice_coef"
   ]
  },
  {
   "cell_type": "code",
   "execution_count": null,
   "metadata": {},
   "outputs": [],
   "source": [
    "# Encode labels\n",
    "from sklearn.preprocessing import LabelEncoder\n",
    "\n",
    "labelencoder = LabelEncoder()\n",
    "n, h, w = test_masks.shape\n",
    "test_masks_reshaped = test_masks.reshape(-1, 1)\n",
    "test_masks_reshaped_encoded = labelencoder.fit_transform(test_masks_reshaped)\n",
    "test_encoded_original_shape = test_masks_reshaped_encoded.reshape(n, h, w)\n",
    "\n",
    "np.unique(test_encoded_original_shape)"
   ]
  },
  {
   "cell_type": "code",
   "execution_count": null,
   "metadata": {},
   "outputs": [],
   "source": [
    "test_masks_input = np.expand_dims(test_encoded_original_shape, axis = 3)"
   ]
  },
  {
   "cell_type": "code",
   "execution_count": null,
   "metadata": {},
   "outputs": [],
   "source": [
    "y_test = test_masks_input\n",
    "X_test1 = preprocess_input1(test_images)"
   ]
  },
  {
   "cell_type": "code",
   "execution_count": null,
   "metadata": {},
   "outputs": [],
   "source": [
    "with CustomObjectScope({'iou_score': sm.metrics.IOUScore(threshold=0.5), 'f1-score': sm.metrics.FScore(threshold=0.5),  'Exp_loss': Exp_loss, 'dice_coef': dice_coef}):\n",
    "    model1 = tf.keras.models.load_model(\"Main_Model.hdf5\", compile=False)"
   ]
  },
  {
   "cell_type": "code",
   "execution_count": null,
   "metadata": {},
   "outputs": [],
   "source": [
    "with CustomObjectScope({'iou_score': sm.metrics.IOUScore(threshold=0.5), 'f1-score': sm.metrics.FScore(threshold=0.5), 'Exp_loss': Exp_loss, 'dice_coef': dice_coef}):\n",
    "    model2 = tf.keras.models.load_model(\"Sampling_Model.hdf5\", compile=False)"
   ]
  },
  {
   "cell_type": "code",
   "execution_count": null,
   "metadata": {},
   "outputs": [],
   "source": [
    "metrics = [sm.metrics.IOUScore(threshold=0.5), sm.metrics.FScore(threshold=0.5), dice_coef]\n",
    "\n",
    "model1.compile(optimizer='adam', loss=Exp_loss, metrics=metrics)\n",
    "model2.compile(optimizer='adam', loss=Exp_loss, metrics=metrics)"
   ]
  },
  {
   "cell_type": "code",
   "execution_count": null,
   "metadata": {},
   "outputs": [],
   "source": [
    "class w_ave(tf.keras.layers.Layer):\n",
    "    def __init__(self, w1, w2, **kwargs):\n",
    "        super().__init__( **kwargs)\n",
    "        self.w1 = w1\n",
    "        self.w2 = w2\n",
    "    def call(self, inputs):\n",
    "        return self.w1 * inputs[0] + self.w2 * inputs[1]"
   ]
  },
  {
   "cell_type": "code",
   "execution_count": null,
   "metadata": {},
   "outputs": [],
   "source": [
    "models = [model1, model2]\n",
    "input = tf.keras.layers.Input(shape=(256, 256, 3), dtype='float32')\n",
    "ensemble = [x(input) for x in models]\n",
    "ensemble_output = w_ave(1.01, 1)(ensemble)\n",
    "final_model = tf.keras.models.Model(inputs=input, outputs = ensemble_output)"
   ]
  },
  {
   "cell_type": "code",
   "execution_count": null,
   "metadata": {},
   "outputs": [],
   "source": [
    "y_pred = final_model.predict(test_images)\n",
    "y_pred_argmax = np.argmax(y_pred, axis = 3)"
   ]
  },
  {
   "cell_type": "code",
   "execution_count": null,
   "metadata": {},
   "outputs": [],
   "source": [
    "n_classes = 2\n",
    "IOU_keras = MeanIoU(num_classes = n_classes)\n",
    "IOU_keras.update_state(y_test[:, :, :, 0], y_pred_argmax)\n",
    "print(\"Mean IoU =\", IOU_keras.result().numpy())"
   ]
  },
  {
   "cell_type": "code",
   "execution_count": null,
   "metadata": {},
   "outputs": [],
   "source": [
    "# To calculate I0U for each class...\n",
    "values = np.array(IOU_keras.get_weights()).reshape(n_classes, n_classes)\n",
    "print(values)\n",
    "class1_IoU = values[0,0] / (values[0,0] + values[0,1] + values[1,0])\n",
    "class2_IoU = values[1,1] / (values[1,1] + values[1,0]  + values[0,1])\n",
    "\n",
    "print(\"IoU for class1 is: \", class1_IoU)\n",
    "print(\"IoU for class2 is: \", class2_IoU)"
   ]
  },
  {
   "cell_type": "code",
   "execution_count": null,
   "metadata": {},
   "outputs": [],
   "source": [
    "#Test some random images\n",
    "\n",
    "import random\n",
    "test_img_number = random.randint(0, len(X_test1) - 1)\n",
    "test_img = X_test1[test_img_number]\n",
    "ground_truth=y_test[test_img_number]\n",
    "test_img_input=np.expand_dims(test_img, 0)\n",
    "\n",
    "test_img_input1 = preprocess_input1(test_img_input)\n",
    "\n",
    "test_pred1 = final_model.predict(test_img_input1)\n",
    "test_prediction1 = np.argmax(test_pred1, axis=3)[0,:,:]\n",
    "\n",
    "plt.figure(figsize=(12, 8))\n",
    "plt.subplot(231)\n",
    "plt.title('Testing Image')\n",
    "plt.imshow(test_img[:,:,0], cmap='gray')\n",
    "plt.subplot(232)\n",
    "plt.title('Testing Label')\n",
    "plt.imshow(ground_truth[:,:,0], cmap='jet')\n",
    "plt.subplot(233)\n",
    "plt.title('Prediction on test image')\n",
    "plt.imshow(test_prediction1, cmap='jet')\n",
    "plt.show()"
   ]
  }
 ],
 "metadata": {
  "language_info": {
   "name": "python"
  }
 },
 "nbformat": 4,
 "nbformat_minor": 2
}
